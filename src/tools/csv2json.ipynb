{
 "cells": [
  {
   "cell_type": "code",
   "execution_count": 43,
   "metadata": {},
   "outputs": [],
   "source": [
    "import csv\n",
    "import json\n",
    "import os\n",
    "\n",
    "def csv2json(input_file:str, output_dir:str, delimiter:str=',', encoding:str='utf-8'):\n",
    "    base_name, _ = os.path.splitext(os.path.basename(input_file))\n",
    "    with open(input_file, 'r', encoding='utf-8') as f:\n",
    "        reader = csv.DictReader(f, delimiter='\\t')\n",
    "        rows = list(reader)\n",
    "    exp_columns = [key for key in rows[0].keys() if key.startswith('requiredExp_')]\n",
    "    for col in exp_columns:\n",
    "        suffix = col.split('_')[1]  # 600, 900, ...\n",
    "        output_path = os.path.join(output_dir, f'{base_name}_{suffix}.json')\n",
    "        data = []\n",
    "        for row in rows:\n",
    "            entry = {\n",
    "                'currentLevel': row['currentLevel'],\n",
    "                'requiredExp': row[col],\n",
    "                'costDreamShards': row['costDreamShards']\n",
    "            }\n",
    "            data.append(entry)\n",
    "        with open(output_path, 'w', encoding='utf-8') as f:\n",
    "            json.dump(data, f, ensure_ascii=False, indent=4)\n",
    "        print(f\"Converted {input_file} to {output_path}\")"
   ]
  },
  {
   "cell_type": "code",
   "execution_count": 45,
   "metadata": {},
   "outputs": [
    {
     "name": "stdout",
     "output_type": "stream",
     "text": [
      "Converted ./expTable.tsv to ../assets\\expTable_600.json\n",
      "Converted ./expTable.tsv to ../assets\\expTable_900.json\n",
      "Converted ./expTable.tsv to ../assets\\expTable_1080.json\n",
      "Converted ./expTable.tsv to ../assets\\expTable_1320.json\n"
     ]
    }
   ],
   "source": [
    "input_file = './expTable.tsv'\n",
    "output_dir = '../assets'\n",
    "csv2json(input_file, output_dir, delimiter='\\t')"
   ]
  }
 ],
 "metadata": {
  "kernelspec": {
   "display_name": "Python 3",
   "language": "python",
   "name": "python3"
  },
  "language_info": {
   "codemirror_mode": {
    "name": "ipython",
    "version": 3
   },
   "file_extension": ".py",
   "mimetype": "text/x-python",
   "name": "python",
   "nbconvert_exporter": "python",
   "pygments_lexer": "ipython3",
   "version": "3.12.0"
  },
  "orig_nbformat": 4
 },
 "nbformat": 4,
 "nbformat_minor": 2
}

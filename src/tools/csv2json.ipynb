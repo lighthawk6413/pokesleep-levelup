{
 "cells": [
  {
   "cell_type": "code",
   "execution_count": 4,
   "metadata": {},
   "outputs": [],
   "source": [
    "import csv\n",
    "import json\n",
    "import os\n",
    "\n",
    "def csv2json(input_file:str, output_file:str=None, delimiter:str=',', encoding:str='utf-8'):\n",
    "    with open(input_file, mode='r', encoding=encoding) as f:\n",
    "        reader = csv.DictReader(f, delimiter=delimiter)\n",
    "        data = [row for row in reader]\n",
    "    if output_file is None:\n",
    "        base_name, _ = os.path.splitext(input_file)\n",
    "        output_file = f'{base_name}.json'\n",
    "    with open(output_file, mode='w', encoding=encoding) as f:\n",
    "        json.dump(data, f, ensure_ascii=False, indent=4)\n",
    "    print(f\"Converted {input_file} to {output_file}\")"
   ]
  },
  {
   "cell_type": "code",
   "execution_count": 5,
   "metadata": {},
   "outputs": [
    {
     "name": "stdout",
     "output_type": "stream",
     "text": [
      "Converted ../assets/expTable_600.tsv to ../assets/expTable_600.json\n",
      "Converted ../assets/expTable_900.tsv to ../assets/expTable_900.json\n",
      "Converted ../assets/expTable_1080.tsv to ../assets/expTable_1080.json\n",
      "Converted ../assets/expTable_1320.tsv to ../assets/expTable_1320.json\n"
     ]
    }
   ],
   "source": [
    "ExpType_list = ('600', '900', '1080', '1320')\n",
    "for ExpType in ExpType_list:\n",
    "    input_file = f'../assets/expTable_{ExpType}.tsv'\n",
    "    csv2json(input_file, delimiter='\\t')"
   ]
  }
 ],
 "metadata": {
  "kernelspec": {
   "display_name": "Python 3",
   "language": "python",
   "name": "python3"
  },
  "language_info": {
   "codemirror_mode": {
    "name": "ipython",
    "version": 3
   },
   "file_extension": ".py",
   "mimetype": "text/x-python",
   "name": "python",
   "nbconvert_exporter": "python",
   "pygments_lexer": "ipython3",
   "version": "3.12.0"
  },
  "orig_nbformat": 4
 },
 "nbformat": 4,
 "nbformat_minor": 2
}
